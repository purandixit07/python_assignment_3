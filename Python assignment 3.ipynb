{
 "cells": [
  {
   "cell_type": "markdown",
   "id": "c970ecd4",
   "metadata": {},
   "source": [
    "# Q1.1"
   ]
  },
  {
   "cell_type": "code",
   "execution_count": 6,
   "id": "68efd0d7",
   "metadata": {},
   "outputs": [],
   "source": [
    "\n",
    "def myreduce(l):\n",
    "    a=0\n",
    "    for i in l:\n",
    "        a = a + i \n",
    "    return a\n",
    "    "
   ]
  },
  {
   "cell_type": "code",
   "execution_count": 12,
   "id": "906d2454",
   "metadata": {},
   "outputs": [
    {
     "data": {
      "text/plain": [
       "27"
      ]
     },
     "execution_count": 12,
     "metadata": {},
     "output_type": "execute_result"
    }
   ],
   "source": [
    "myreduce((4,4,5,6,8))"
   ]
  },
  {
   "cell_type": "markdown",
   "id": "af83030b",
   "metadata": {},
   "source": [
    "# Q1.2"
   ]
  },
  {
   "cell_type": "code",
   "execution_count": 49,
   "id": "50517c6a",
   "metadata": {},
   "outputs": [],
   "source": [
    "def myfilter(l):\n",
    "    l1=[]\n",
    "    for i in l:\n",
    "        if i<=5:\n",
    "            l1.append(i)\n",
    "    return l1\n",
    "            \n",
    "            \n",
    "    "
   ]
  },
  {
   "cell_type": "code",
   "execution_count": 51,
   "id": "d2ee232e",
   "metadata": {},
   "outputs": [
    {
     "data": {
      "text/plain": [
       "[1, 3, 2, 4, 5]"
      ]
     },
     "execution_count": 51,
     "metadata": {},
     "output_type": "execute_result"
    }
   ],
   "source": [
    "myfilter([1,3,2,4,5,6,7,8,9,10])"
   ]
  },
  {
   "cell_type": "code",
   "execution_count": 60,
   "id": "63e69271",
   "metadata": {},
   "outputs": [],
   "source": [
    "#l = ['x','y','z']"
   ]
  },
  {
   "cell_type": "code",
   "execution_count": 130,
   "id": "0eebb968",
   "metadata": {},
   "outputs": [],
   "source": [
    "#[i*2 for i in l]"
   ]
  },
  {
   "cell_type": "code",
   "execution_count": 131,
   "id": "329dceb4",
   "metadata": {},
   "outputs": [],
   "source": [
    "#c1 = lambda *args: [i for i in args]\n",
    "#c1('x','y','z')"
   ]
  },
  {
   "cell_type": "code",
   "execution_count": 132,
   "id": "b41fdd47",
   "metadata": {},
   "outputs": [],
   "source": [
    "#c2 = lambda *args: [i*2 for i in args]\n",
    "#c2('x','y','z')"
   ]
  },
  {
   "cell_type": "code",
   "execution_count": 133,
   "id": "97c63045",
   "metadata": {},
   "outputs": [],
   "source": [
    "#c3 = lambda *args: [i*3 for i in args]\n",
    "#c3('x','y','z')"
   ]
  },
  {
   "cell_type": "code",
   "execution_count": 134,
   "id": "cbd514ff",
   "metadata": {},
   "outputs": [],
   "source": [
    "#c4 = lambda *args: [i*4 for i in args]\n",
    "#c4('x','y','z')"
   ]
  },
  {
   "cell_type": "code",
   "execution_count": null,
   "id": "92e21e71",
   "metadata": {},
   "outputs": [],
   "source": []
  },
  {
   "cell_type": "code",
   "execution_count": null,
   "id": "28d3c1dc",
   "metadata": {},
   "outputs": [],
   "source": []
  },
  {
   "cell_type": "markdown",
   "id": "927178c8",
   "metadata": {},
   "source": [
    "# Q2.1"
   ]
  },
  {
   "cell_type": "code",
   "execution_count": 113,
   "id": "20c5e8bb",
   "metadata": {},
   "outputs": [],
   "source": [
    "c11=lambda *args:[i*n for i in args for n in range(1,5) ]"
   ]
  },
  {
   "cell_type": "code",
   "execution_count": 114,
   "id": "a4058b82",
   "metadata": {},
   "outputs": [
    {
     "data": {
      "text/plain": [
       "['x', 'xx', 'xxx', 'xxxx', 'y', 'yy', 'yyy', 'yyyy', 'z', 'zz', 'zzz', 'zzzz']"
      ]
     },
     "execution_count": 114,
     "metadata": {},
     "output_type": "execute_result"
    }
   ],
   "source": [
    "c11('x','y','z')"
   ]
  },
  {
   "cell_type": "markdown",
   "id": "7a9049ed",
   "metadata": {},
   "source": [
    "# Q2.2"
   ]
  },
  {
   "cell_type": "code",
   "execution_count": 121,
   "id": "80f575a1",
   "metadata": {},
   "outputs": [],
   "source": [
    "c11=lambda *args:[i*n for n in range(1,5) for i in args]"
   ]
  },
  {
   "cell_type": "code",
   "execution_count": 122,
   "id": "f027e469",
   "metadata": {},
   "outputs": [
    {
     "data": {
      "text/plain": [
       "['x', 'y', 'z', 'xx', 'yy', 'zz', 'xxx', 'yyy', 'zzz', 'xxxx', 'yyyy', 'zzzz']"
      ]
     },
     "execution_count": 122,
     "metadata": {},
     "output_type": "execute_result"
    }
   ],
   "source": [
    "c11('x','y','z')"
   ]
  },
  {
   "cell_type": "markdown",
   "id": "e4e7f472",
   "metadata": {},
   "source": [
    "# Q2.3"
   ]
  },
  {
   "cell_type": "code",
   "execution_count": 123,
   "id": "d6776780",
   "metadata": {},
   "outputs": [
    {
     "data": {
      "text/plain": [
       "[(1, 1), (2, 1), (3, 1), (1, 2), (2, 2), (3, 2), (1, 3), (2, 3), (3, 3)]"
      ]
     },
     "execution_count": 123,
     "metadata": {},
     "output_type": "execute_result"
    }
   ],
   "source": [
    "[(1,1),(2,1),(3,1),(1,2),(2,2),(3,2),(1,3),(2,3),(3,3)]"
   ]
  },
  {
   "cell_type": "markdown",
   "id": "44054f66",
   "metadata": {},
   "source": [
    "# solution"
   ]
  },
  {
   "cell_type": "code",
   "execution_count": 124,
   "id": "5fa108c7",
   "metadata": {},
   "outputs": [
    {
     "data": {
      "text/plain": [
       "[(1, 1), (2, 1), (3, 1), (1, 2), (2, 2), (3, 2), (1, 3), (2, 3), (3, 3)]"
      ]
     },
     "execution_count": 124,
     "metadata": {},
     "output_type": "execute_result"
    }
   ],
   "source": [
    "[(i,n) for n in range(1,4) for i in range(1,4) ]"
   ]
  },
  {
   "cell_type": "markdown",
   "id": "526eeeb5",
   "metadata": {},
   "source": [
    "# Q2.4"
   ]
  },
  {
   "cell_type": "code",
   "execution_count": 125,
   "id": "98be0b90",
   "metadata": {},
   "outputs": [
    {
     "data": {
      "text/plain": [
       "[[2], [3], [4], [3], [4], [5], [4], [5], [6]]"
      ]
     },
     "execution_count": 125,
     "metadata": {},
     "output_type": "execute_result"
    }
   ],
   "source": [
    "[[2],[3],[4],[3],[4],[5],[4],[5],[6]]"
   ]
  },
  {
   "cell_type": "markdown",
   "id": "f45915ab",
   "metadata": {},
   "source": [
    "# solution"
   ]
  },
  {
   "cell_type": "code",
   "execution_count": 127,
   "id": "5a8b33de",
   "metadata": {},
   "outputs": [
    {
     "data": {
      "text/plain": [
       "[[2], [3], [4], [3], [4], [5], [4], [5], [6]]"
      ]
     },
     "execution_count": 127,
     "metadata": {},
     "output_type": "execute_result"
    }
   ],
   "source": [
    "[[i+n] for n in range(0,3) for i in range(2,5)]"
   ]
  },
  {
   "cell_type": "markdown",
   "id": "bf432f55",
   "metadata": {},
   "source": [
    "# Q2.5"
   ]
  },
  {
   "cell_type": "code",
   "execution_count": 135,
   "id": "6c68d251",
   "metadata": {},
   "outputs": [
    {
     "data": {
      "text/plain": [
       "[[2, 3, 4, 5], [3, 4, 5, 6], [4, 5, 6, 7], [5, 6, 7, 8]]"
      ]
     },
     "execution_count": 135,
     "metadata": {},
     "output_type": "execute_result"
    }
   ],
   "source": [
    "[[2,3,4,5],[3,4,5,6],[4,5,6,7],[5,6,7,8]]"
   ]
  },
  {
   "cell_type": "markdown",
   "id": "d3e63032",
   "metadata": {},
   "source": [
    "# solution"
   ]
  },
  {
   "cell_type": "code",
   "execution_count": 129,
   "id": "8ed70525",
   "metadata": {},
   "outputs": [
    {
     "data": {
      "text/plain": [
       "[[2, 3, 4, 5], [3, 4, 5, 6], [4, 5, 6, 7], [5, 6, 7, 8]]"
      ]
     },
     "execution_count": 129,
     "metadata": {},
     "output_type": "execute_result"
    }
   ],
   "source": [
    "[[i,i+1,i+2,i+3] for i in range(2,6)]"
   ]
  },
  {
   "cell_type": "code",
   "execution_count": null,
   "id": "d55535e2",
   "metadata": {},
   "outputs": [],
   "source": []
  },
  {
   "cell_type": "code",
   "execution_count": null,
   "id": "e813c650",
   "metadata": {},
   "outputs": [],
   "source": [
    "\n"
   ]
  }
 ],
 "metadata": {
  "kernelspec": {
   "display_name": "Python 3",
   "language": "python",
   "name": "python3"
  },
  "language_info": {
   "codemirror_mode": {
    "name": "ipython",
    "version": 3
   },
   "file_extension": ".py",
   "mimetype": "text/x-python",
   "name": "python",
   "nbconvert_exporter": "python",
   "pygments_lexer": "ipython3",
   "version": "3.8.8"
  }
 },
 "nbformat": 4,
 "nbformat_minor": 5
}
